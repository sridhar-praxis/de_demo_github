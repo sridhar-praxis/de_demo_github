{
 "cells": [
  {
   "cell_type": "code",
   "execution_count": 14,
   "id": "ecfe8ad1",
   "metadata": {},
   "outputs": [],
   "source": [
    "# Exercise\n",
    "# remove duplicate characters from a text\n",
    "text = \"good morning.\"\n",
    "n = len(text)\n",
    "# scan the text one character at a time. j is the index of the character\n",
    "j = 0\n",
    "while (j < n):\n",
    "    # loop through text scanning for currenct character\n",
    "    for k in range(n):\n",
    "        if (k==j):\n",
    "            continue\n",
    "        if (text[k] == text[j]):\n",
    "            text = text[0:k] + \"#\" + text[k+1:]\n",
    "    j += 1\n",
    "\n",
    "dedup_text = \"\"\n",
    "for i in text:\n",
    "    if (i == \"#\"):\n",
    "        continue\n",
    "    dedup_text += i"
   ]
  },
  {
   "cell_type": "code",
   "execution_count": 15,
   "id": "ba72ebae",
   "metadata": {},
   "outputs": [
    {
     "data": {
      "text/plain": [
       "('go#d m#rni##', 'god mrni')"
      ]
     },
     "execution_count": 15,
     "metadata": {},
     "output_type": "execute_result"
    }
   ],
   "source": [
    "text, dedup_text"
   ]
  },
  {
   "cell_type": "code",
   "execution_count": 27,
   "id": "3393eae0",
   "metadata": {},
   "outputs": [],
   "source": [
    "text = \"Hello everyone! Welcome to this session\"\n",
    "for i in range(len(text)):\n",
    "    for j in range(len(text)):\n",
    "        if (j == i):\n",
    "            continue\n",
    "        if (text[j] == text[i]):\n",
    "            text = text[:j] + \"#\" + text[j+1:]\n",
    "\n",
    "dedup_text = \"\"\n",
    "for i in text:\n",
    "    if (i == \"#\"):\n",
    "        continue\n",
    "    dedup_text += i"
   ]
  },
  {
   "cell_type": "code",
   "execution_count": 28,
   "id": "a6f652e8",
   "metadata": {},
   "outputs": [
    {
     "data": {
      "text/plain": [
       "('Hel#o #v#ry#n#!#W##c#m##t###his########', 'Helo vryn!Wcmthis')"
      ]
     },
     "execution_count": 28,
     "metadata": {},
     "output_type": "execute_result"
    }
   ],
   "source": [
    "text, dedup_text"
   ]
  },
  {
   "cell_type": "code",
   "execution_count": null,
   "id": "811dbefa",
   "metadata": {},
   "outputs": [],
   "source": []
  }
 ],
 "metadata": {
  "kernelspec": {
   "display_name": "Python 3 (ipykernel)",
   "language": "python",
   "name": "python3"
  },
  "language_info": {
   "codemirror_mode": {
    "name": "ipython",
    "version": 3
   },
   "file_extension": ".py",
   "mimetype": "text/x-python",
   "name": "python",
   "nbconvert_exporter": "python",
   "pygments_lexer": "ipython3",
   "version": "3.9.7"
  }
 },
 "nbformat": 4,
 "nbformat_minor": 5
}
